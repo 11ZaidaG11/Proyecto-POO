{
 "cells": [
  {
   "cell_type": "code",
   "execution_count": 2,
   "id": "4c3bad21",
   "metadata": {},
   "outputs": [],
   "source": [
    "meaning = {\n",
    "    \"Ubicar\": \"G00\",\n",
    "    \"Línea recta\": \"G01\",\n",
    "    \"Arco horario\": \"G02\",\n",
    "    \"Arco antihorario\": \"G03\"\n",
    "}"
   ]
  },
  {
   "cell_type": "code",
   "execution_count": 3,
   "id": "84040c90",
   "metadata": {},
   "outputs": [
    {
     "ename": "ValueError",
     "evalue": "could not convert string to float: ''",
     "output_type": "error",
     "traceback": [
      "\u001b[1;31m---------------------------------------------------------------------------\u001b[0m",
      "\u001b[1;31mValueError\u001b[0m                                Traceback (most recent call last)",
      "Cell \u001b[1;32mIn[3], line 9\u001b[0m\n\u001b[0;32m      7\u001b[0m list_coor \u001b[38;5;241m=\u001b[39m []\n\u001b[0;32m      8\u001b[0m \u001b[38;5;28;01mfor\u001b[39;00m i \u001b[38;5;129;01min\u001b[39;00m coor:\n\u001b[1;32m----> 9\u001b[0m     list_coor\u001b[38;5;241m.\u001b[39mappend(\u001b[38;5;28;43mfloat\u001b[39;49m\u001b[43m(\u001b[49m\u001b[43mi\u001b[49m\u001b[43m)\u001b[49m)\n\u001b[0;32m     11\u001b[0m \u001b[38;5;28;01mif\u001b[39;00m action \u001b[38;5;241m==\u001b[39m \u001b[38;5;124m\"\u001b[39m\u001b[38;5;124mUbicar\u001b[39m\u001b[38;5;124m\"\u001b[39m:\n\u001b[0;32m     12\u001b[0m     \u001b[38;5;28mprint\u001b[39m(\u001b[38;5;124mf\u001b[39m\u001b[38;5;124m\"\u001b[39m\u001b[38;5;132;01m{\u001b[39;00mmeaning[action]\u001b[38;5;132;01m}\u001b[39;00m\u001b[38;5;124m X\u001b[39m\u001b[38;5;132;01m{\u001b[39;00mlist_coor[\u001b[38;5;241m0\u001b[39m]\u001b[38;5;132;01m}\u001b[39;00m\u001b[38;5;124m Y\u001b[39m\u001b[38;5;132;01m{\u001b[39;00mlist_coor[\u001b[38;5;241m1\u001b[39m]\u001b[38;5;132;01m}\u001b[39;00m\u001b[38;5;124m\"\u001b[39m)\n",
      "\u001b[1;31mValueError\u001b[0m: could not convert string to float: ''"
     ]
    }
   ],
   "source": [
    "# Acción: Ubicar \n",
    "# Coordenadas: 3, 4\n",
    "\n",
    "action = input(\"Acción: \").capitalize()\n",
    "coor = input(\"Coordenadas: \").replace(\" \", \"\").split(\",\")\n",
    "\n",
    "list_coor = []\n",
    "for i in coor:\n",
    "    list_coor.append(float(i))\n",
    "\n",
    "if action == \"Ubicar\":\n",
    "    print(f\"{meaning[action]} X{list_coor[0]} Y{list_coor[1]}\")"
   ]
  },
  {
   "cell_type": "code",
   "execution_count": null,
   "id": "7814b292",
   "metadata": {},
   "outputs": [
    {
     "name": "stdout",
     "output_type": "stream",
     "text": [
      "G00 X3.0 Y4.0\n"
     ]
    }
   ],
   "source": [
    "# Ubicar: 3, 4\n",
    "\n",
    "user = input(\"\").split(\":\")\n",
    "action = user[0]\n",
    "coor = user[1].replace(\" \", \"\").split(\",\")\n",
    "\n",
    "list_coor = []\n",
    "for i in coor:\n",
    "    list_coor.append(float(i))\n",
    "\n",
    "if action == \"Ubicar\":\n",
    "    print(f\"{meaning[action]} X{list_coor[0]} Y{list_coor[1]}\")\n"
   ]
  },
  {
   "cell_type": "code",
   "execution_count": 4,
   "id": "55dafcc7",
   "metadata": {},
   "outputs": [
    {
     "name": "stdout",
     "output_type": "stream",
     "text": [
      "G02 X9.0 Y6.0 I3.5 J0.0\n"
     ]
    }
   ],
   "source": [
    "# Arco horario: 9, 6; Centro: 5.5, 6\n",
    "\n",
    "user = input(\"\").split(\";\")\n",
    "user_f = []\n",
    "\n",
    "for i in user:\n",
    "    user_f.append(i.split(\":\"))\n",
    "action = user_f[0][0]\n",
    "\n",
    "xy = user_f[0][1].replace(\" \", \"\").split(\",\")\n",
    "list_coor = []\n",
    "for i in xy:\n",
    "    list_coor.append(float(i))\n",
    "\n",
    "ij = user_f[1][1].replace(\" \", \"\").split(\",\")\n",
    "list_coor_1 = []\n",
    "for i in ij:\n",
    "    list_coor_1.append(float(i))\n",
    "\n",
    "if action in [\"Arco horario\", \"Arco antihorario\"]:\n",
    "    I = list_coor_1[0] - 2\n",
    "    J = list_coor_1[1] - 6\n",
    "    print(f\"{meaning[action]} X{list_coor[0]} Y{list_coor[1]} I{I} J{J}\")"
   ]
  }
 ],
 "metadata": {
  "kernelspec": {
   "display_name": "Python 3",
   "language": "python",
   "name": "python3"
  },
  "language_info": {
   "codemirror_mode": {
    "name": "ipython",
    "version": 3
   },
   "file_extension": ".py",
   "mimetype": "text/x-python",
   "name": "python",
   "nbconvert_exporter": "python",
   "pygments_lexer": "ipython3",
   "version": "3.10.8"
  }
 },
 "nbformat": 4,
 "nbformat_minor": 5
}
