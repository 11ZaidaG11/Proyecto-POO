{
 "cells": [
  {
   "cell_type": "code",
   "execution_count": null,
   "id": "96001e3b",
   "metadata": {},
   "outputs": [],
   "source": [
    "\"\"\"\n",
    "Expresiones regulares\n",
    "Hace referencia a un número entero o decimal, positivo o negativo\n",
    "(-?\\d+(?:\\.\\d+)?) \n",
    "\n",
    "(Ubicar|Recta): (-?\\d+(?:\\.\\d+)?), (-?\\d+(?:\\.\\d+)?)\n",
    "Arco (horario|antihorario): (-?\\d+(?:\\.\\d+)?), (-?\\d+(?:\\.\\d+)?); Centro: (-?\\d+(?:\\.\\d+)?), (-?\\d+(?:\\.\\d+)?)\n",
    "https://regex101.com/\n",
    "\"\"\""
   ]
  },
  {
   "cell_type": "code",
   "execution_count": null,
   "id": "e0a42215",
   "metadata": {},
   "outputs": [],
   "source": [
    "meaning = {\n",
    "    \"Ubicar\": \"G00\",\n",
    "    \"Recta\": \"G01\",\n",
    "    \"Arco horario\": \"G02\",\n",
    "    \"Arco antihorario\": \"G03\"\n",
    "}"
   ]
  },
  {
   "cell_type": "code",
   "execution_count": null,
   "id": "76c58aa3",
   "metadata": {},
   "outputs": [],
   "source": [
    "import re\n",
    "\n",
    "\n",
    "with open(\"natural_file.txt\", \"r\", encoding=\"utf-8\") as archivo:\n",
    "    contenido = archivo.read()\n"
   ]
  }
 ],
 "metadata": {
  "language_info": {
   "name": "python"
  }
 },
 "nbformat": 4,
 "nbformat_minor": 5
}
