{
 "cells": [
  {
   "cell_type": "code",
   "execution_count": 9,
   "id": "4c3bad21",
   "metadata": {},
   "outputs": [],
   "source": [
    "meaning = {\n",
    "    \"Ubicar\": \"G00\",\n",
    "    \"Línea recta\": \"G01\",\n",
    "    \"Arco horario\": \"G02\",\n",
    "    \"Arco antihorario\": \"G03\"\n",
    "}"
   ]
  },
  {
   "cell_type": "code",
   "execution_count": 22,
   "id": "84040c90",
   "metadata": {},
   "outputs": [
    {
     "name": "stdout",
     "output_type": "stream",
     "text": [
      "G00 X3.0 Y4.0\n"
     ]
    }
   ],
   "source": [
    "# Acción: Ubicar \n",
    "# Coordenadas: 3, 4\n",
    "\n",
    "action = input(\"Acción: \").capitalize()\n",
    "coor = input(\"Coordenadas: \").replace(\" \", \"\").split(\",\")\n",
    "\n",
    "list_coor = []\n",
    "for i in coor:\n",
    "    list_coor.append(float(i))\n",
    "\n",
    "if action == \"Ubicar\":\n",
    "    print(f\"{meaning[action]} X{list_coor[0]} Y{list_coor[1]}\")"
   ]
  },
  {
   "cell_type": "code",
   "execution_count": 23,
   "id": "7814b292",
   "metadata": {},
   "outputs": [
    {
     "name": "stdout",
     "output_type": "stream",
     "text": [
      "G00 X3.0 Y4.0\n"
     ]
    }
   ],
   "source": [
    "# Ubicar: 3, 4\n",
    "\n",
    "user = input(\"\").split(\":\")\n",
    "action = user[0]\n",
    "coor = user[1].replace(\" \", \"\").split(\",\")\n",
    "\n",
    "list_coor = []\n",
    "for i in coor:\n",
    "    list_coor.append(float(i))\n",
    "\n",
    "if action == \"Ubicar\":\n",
    "    print(f\"{meaning[action]} X{list_coor[0]} Y{list_coor[1]}\")\n"
   ]
  },
  {
   "cell_type": "code",
   "execution_count": 21,
   "id": "55dafcc7",
   "metadata": {},
   "outputs": [
    {
     "name": "stdout",
     "output_type": "stream",
     "text": [
      "G02 X9.0 Y6.0 I6.0 J6.0\n"
     ]
    }
   ],
   "source": [
    "# Arco horario: 9, 6; Centro: 5.5, 6\n",
    "\n",
    "user = input(\"\").split(\";\")\n",
    "user_f = []\n",
    "\n",
    "for i in user:\n",
    "    user_f.append(i.split(\":\"))\n",
    "action = user_f[0][0]\n",
    "\n",
    "xy = user_f[0][1].replace(\" \", \"\").split(\",\")\n",
    "list_coor = []\n",
    "for i in xy:\n",
    "    list_coor.append(float(i))\n",
    "\n",
    "ij = user_f[1][1].replace(\" \", \"\").split(\",\")\n",
    "list_coor_1 = []\n",
    "for i in ij:\n",
    "    list_coor_1.append(float(i))\n",
    "\n",
    "if action in [\"Arco horario\", \"Arco antihorario\"]:\n",
    "    I = list_coor_1[0]\n",
    "    J = list_coor_1[1]\n",
    "    print(f\"{meaning[action]} X{list_coor[0]} Y{list_coor[1]} I{J} J{J}\")"
   ]
  }
 ],
 "metadata": {
  "kernelspec": {
   "display_name": "Python 3",
   "language": "python",
   "name": "python3"
  },
  "language_info": {
   "codemirror_mode": {
    "name": "ipython",
    "version": 3
   },
   "file_extension": ".py",
   "mimetype": "text/x-python",
   "name": "python",
   "nbconvert_exporter": "python",
   "pygments_lexer": "ipython3",
   "version": "3.12.8"
  }
 },
 "nbformat": 4,
 "nbformat_minor": 5
}
